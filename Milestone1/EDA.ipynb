{
  "nbformat": 4,
  "nbformat_minor": 0,
  "metadata": {
    "kernelspec": {
      "display_name": "Python 3",
      "language": "python",
      "name": "python3"
    },
    "language_info": {
      "codemirror_mode": {
        "name": "ipython",
        "version": 3
      },
      "file_extension": ".py",
      "mimetype": "text/x-python",
      "name": "python",
      "nbconvert_exporter": "python",
      "pygments_lexer": "ipython3",
      "version": "3.7.3"
    },
    "colab": {
      "name": "EDA.ipynb",
      "provenance": [],
      "collapsed_sections": [],
      "toc_visible": true
    }
  },
  "cells": [
    {
      "cell_type": "markdown",
      "metadata": {
        "id": "NgcfETYDfN5u"
      },
      "source": [
        "# Exploratory Data Analysis for Restaurant Business Rankings 2020"
      ]
    },
    {
      "cell_type": "code",
      "metadata": {
        "id": "m4pqHOQkfN54"
      },
      "source": [
        "import numpy as np\n",
        "import pandas as pd\n",
        "import matplotlib.pyplot as plt"
      ],
      "execution_count": null,
      "outputs": []
    },
    {
      "cell_type": "code",
      "metadata": {
        "id": "c61ZRsO9GICz"
      },
      "source": [
        "df_hist = pd.read_csv('./data/HistoricalEsportData.csv',encoding='cp1252')\n",
        "df_general = pd.read_csv('./data/GeneralEsportData.csv',encoding='cp1252')"
      ],
      "execution_count": null,
      "outputs": []
    },
    {
      "cell_type": "markdown",
      "metadata": {
        "id": "nG54C05WTVlu"
      },
      "source": [
        "## Features of historical e-sports earnings dataset\n",
        "There are 5 features in the historical dataset of  e-sports earnings.\n",
        "  * Date: Month\n",
        "  * Game: Game name\n",
        "  * Earnings: Prizepool in this month\n",
        "  * Players: Amount of players receiving earnings in this month\n",
        "  * Tournaments: Amount of tournaments in this month\n"
      ]
    },
    {
      "cell_type": "code",
      "metadata": {
        "colab": {
          "base_uri": "https://localhost:8080/",
          "height": 206
        },
        "id": "rKjQn-z8HQPe",
        "outputId": "c20391b7-beb4-4cb0-bb43-fe0e35d8f1d6"
      },
      "source": [
        "df_hist.head()"
      ],
      "execution_count": null,
      "outputs": [
        {
          "output_type": "execute_result",
          "data": {
            "text/html": [
              "<div>\n",
              "<style scoped>\n",
              "    .dataframe tbody tr th:only-of-type {\n",
              "        vertical-align: middle;\n",
              "    }\n",
              "\n",
              "    .dataframe tbody tr th {\n",
              "        vertical-align: top;\n",
              "    }\n",
              "\n",
              "    .dataframe thead th {\n",
              "        text-align: right;\n",
              "    }\n",
              "</style>\n",
              "<table border=\"1\" class=\"dataframe\">\n",
              "  <thead>\n",
              "    <tr style=\"text-align: right;\">\n",
              "      <th></th>\n",
              "      <th>Date</th>\n",
              "      <th>Game</th>\n",
              "      <th>Earnings</th>\n",
              "      <th>Players</th>\n",
              "      <th>Tournaments</th>\n",
              "    </tr>\n",
              "  </thead>\n",
              "  <tbody>\n",
              "    <tr>\n",
              "      <th>0</th>\n",
              "      <td>1 01 1998</td>\n",
              "      <td>QuakeWorld</td>\n",
              "      <td>15000.0</td>\n",
              "      <td>8</td>\n",
              "      <td>1</td>\n",
              "    </tr>\n",
              "    <tr>\n",
              "      <th>1</th>\n",
              "      <td>1 05 1998</td>\n",
              "      <td>Quake II</td>\n",
              "      <td>14600.0</td>\n",
              "      <td>4</td>\n",
              "      <td>1</td>\n",
              "    </tr>\n",
              "    <tr>\n",
              "      <th>2</th>\n",
              "      <td>1 07 1998</td>\n",
              "      <td>Quake II</td>\n",
              "      <td>15000.0</td>\n",
              "      <td>5</td>\n",
              "      <td>1</td>\n",
              "    </tr>\n",
              "    <tr>\n",
              "      <th>3</th>\n",
              "      <td>1 07 1998</td>\n",
              "      <td>QuakeWorld</td>\n",
              "      <td>6500.0</td>\n",
              "      <td>4</td>\n",
              "      <td>1</td>\n",
              "    </tr>\n",
              "    <tr>\n",
              "      <th>4</th>\n",
              "      <td>1 11 1998</td>\n",
              "      <td>Quake II</td>\n",
              "      <td>36600.0</td>\n",
              "      <td>13</td>\n",
              "      <td>2</td>\n",
              "    </tr>\n",
              "  </tbody>\n",
              "</table>\n",
              "</div>"
            ],
            "text/plain": [
              "        Date        Game  Earnings  Players  Tournaments\n",
              "0  1 01 1998  QuakeWorld   15000.0        8            1\n",
              "1  1 05 1998    Quake II   14600.0        4            1\n",
              "2  1 07 1998    Quake II   15000.0        5            1\n",
              "3  1 07 1998  QuakeWorld    6500.0        4            1\n",
              "4  1 11 1998    Quake II   36600.0       13            2"
            ]
          },
          "metadata": {
            "tags": []
          },
          "execution_count": 6
        }
      ]
    },
    {
      "cell_type": "markdown",
      "metadata": {
        "id": "ig3jA7wkTgMP"
      },
      "source": [
        "## Features of general e-sports earnings dataset\n",
        "There are 7 features in the general dataset of  e-sports earnings.\n",
        "  * Game: Game name\n",
        "  * Release Date: Release year of the game\n",
        "  * Genre: Genre category of game\n",
        "  * TotalEarnings: Total prize pool allocated in tournaments\n",
        "  * OnlineEarnings: Total prize pool allocated in online only tournaments\n",
        "  * TotalPlayers: Total amount of players who received a prize\n",
        "  * TotalTournaments: Total amount of tournaments in the site"
      ]
    },
    {
      "cell_type": "code",
      "metadata": {
        "colab": {
          "base_uri": "https://localhost:8080/",
          "height": 206
        },
        "id": "fiQgy_-4Rkte",
        "outputId": "f32240b1-0258-4c4b-c1dc-d809b6da2029"
      },
      "source": [
        "df_general.head()"
      ],
      "execution_count": null,
      "outputs": [
        {
          "output_type": "execute_result",
          "data": {
            "text/html": [
              "<div>\n",
              "<style scoped>\n",
              "    .dataframe tbody tr th:only-of-type {\n",
              "        vertical-align: middle;\n",
              "    }\n",
              "\n",
              "    .dataframe tbody tr th {\n",
              "        vertical-align: top;\n",
              "    }\n",
              "\n",
              "    .dataframe thead th {\n",
              "        text-align: right;\n",
              "    }\n",
              "</style>\n",
              "<table border=\"1\" class=\"dataframe\">\n",
              "  <thead>\n",
              "    <tr style=\"text-align: right;\">\n",
              "      <th></th>\n",
              "      <th>Game</th>\n",
              "      <th>ReleaseDate</th>\n",
              "      <th>Genre</th>\n",
              "      <th>TotalEarnings</th>\n",
              "      <th>OnlineEarnings</th>\n",
              "      <th>TotalPlayers</th>\n",
              "      <th>TotalTournaments</th>\n",
              "    </tr>\n",
              "  </thead>\n",
              "  <tbody>\n",
              "    <tr>\n",
              "      <th>0</th>\n",
              "      <td>Age of Empires</td>\n",
              "      <td>1997</td>\n",
              "      <td>Strategy</td>\n",
              "      <td>190262.81</td>\n",
              "      <td>156839.89</td>\n",
              "      <td>255</td>\n",
              "      <td>96</td>\n",
              "    </tr>\n",
              "    <tr>\n",
              "      <th>1</th>\n",
              "      <td>Age of Empires II</td>\n",
              "      <td>1999</td>\n",
              "      <td>Strategy</td>\n",
              "      <td>1815535.12</td>\n",
              "      <td>619037.87</td>\n",
              "      <td>1172</td>\n",
              "      <td>815</td>\n",
              "    </tr>\n",
              "    <tr>\n",
              "      <th>2</th>\n",
              "      <td>Age of Empires III</td>\n",
              "      <td>2005</td>\n",
              "      <td>Strategy</td>\n",
              "      <td>68113.85</td>\n",
              "      <td>41500.00</td>\n",
              "      <td>106</td>\n",
              "      <td>76</td>\n",
              "    </tr>\n",
              "    <tr>\n",
              "      <th>3</th>\n",
              "      <td>Age of Empires Online</td>\n",
              "      <td>2011</td>\n",
              "      <td>Strategy</td>\n",
              "      <td>3778.56</td>\n",
              "      <td>0.00</td>\n",
              "      <td>17</td>\n",
              "      <td>10</td>\n",
              "    </tr>\n",
              "    <tr>\n",
              "      <th>4</th>\n",
              "      <td>Age of Mythology</td>\n",
              "      <td>2002</td>\n",
              "      <td>Strategy</td>\n",
              "      <td>52360.00</td>\n",
              "      <td>52000.00</td>\n",
              "      <td>22</td>\n",
              "      <td>6</td>\n",
              "    </tr>\n",
              "  </tbody>\n",
              "</table>\n",
              "</div>"
            ],
            "text/plain": [
              "                    Game  ReleaseDate  ... TotalPlayers  TotalTournaments\n",
              "0         Age of Empires         1997  ...          255                96\n",
              "1      Age of Empires II         1999  ...         1172               815\n",
              "2     Age of Empires III         2005  ...          106                76\n",
              "3  Age of Empires Online         2011  ...           17                10\n",
              "4       Age of Mythology         2002  ...           22                 6\n",
              "\n",
              "[5 rows x 7 columns]"
            ]
          },
          "metadata": {
            "tags": []
          },
          "execution_count": 7
        }
      ]
    },
    {
      "cell_type": "markdown",
      "metadata": {
        "id": "v53igHwUp1a6"
      },
      "source": [
        "### Data Preprocessing\n",
        "Get Genre for historical dataset by merging it with general dataset. Then splitting year and month from date."
      ]
    },
    {
      "cell_type": "code",
      "metadata": {
        "id": "vYDYNZMhcQB-"
      },
      "source": [
        " df_histwithtype = pd.merge(df_hist, df_general[['Game','Genre']], how='left', left_on='Game', right_on='Game')"
      ],
      "execution_count": null,
      "outputs": []
    },
    {
      "cell_type": "code",
      "metadata": {
        "id": "5laonHBoCBMT"
      },
      "source": [
        "df_histwithtype['Date'] = pd.to_datetime(df_histwithtype['Date'],format='%d %m %Y')\n",
        " \n",
        "df_histwithtype['year'] = df_histwithtype['Date'].dt.year\n",
        "\n",
        "df_histwithtype['month'] = df_histwithtype['Date'].dt.month"
      ],
      "execution_count": null,
      "outputs": []
    },
    {
      "cell_type": "code",
      "metadata": {
        "colab": {
          "base_uri": "https://localhost:8080/",
          "height": 206
        },
        "id": "cVZ-h8pbCmCL",
        "outputId": "beb6f119-af1b-43e5-8dbb-21c500afa14d"
      },
      "source": [
        "df_histwithtype.to_csv('hist_withtype.csv')"
      ],
      "execution_count": null,
      "outputs": [
        {
          "output_type": "execute_result",
          "data": {
            "text/html": [
              "<div>\n",
              "<style scoped>\n",
              "    .dataframe tbody tr th:only-of-type {\n",
              "        vertical-align: middle;\n",
              "    }\n",
              "\n",
              "    .dataframe tbody tr th {\n",
              "        vertical-align: top;\n",
              "    }\n",
              "\n",
              "    .dataframe thead th {\n",
              "        text-align: right;\n",
              "    }\n",
              "</style>\n",
              "<table border=\"1\" class=\"dataframe\">\n",
              "  <thead>\n",
              "    <tr style=\"text-align: right;\">\n",
              "      <th></th>\n",
              "      <th>Date</th>\n",
              "      <th>Game</th>\n",
              "      <th>Earnings</th>\n",
              "      <th>Players</th>\n",
              "      <th>Tournaments</th>\n",
              "      <th>Genre</th>\n",
              "      <th>year</th>\n",
              "      <th>month</th>\n",
              "    </tr>\n",
              "  </thead>\n",
              "  <tbody>\n",
              "    <tr>\n",
              "      <th>0</th>\n",
              "      <td>1998-01-01</td>\n",
              "      <td>QuakeWorld</td>\n",
              "      <td>15000.0</td>\n",
              "      <td>8</td>\n",
              "      <td>1</td>\n",
              "      <td>First-Person Shooter</td>\n",
              "      <td>1998</td>\n",
              "      <td>1</td>\n",
              "    </tr>\n",
              "    <tr>\n",
              "      <th>1</th>\n",
              "      <td>1998-05-01</td>\n",
              "      <td>Quake II</td>\n",
              "      <td>14600.0</td>\n",
              "      <td>4</td>\n",
              "      <td>1</td>\n",
              "      <td>First-Person Shooter</td>\n",
              "      <td>1998</td>\n",
              "      <td>5</td>\n",
              "    </tr>\n",
              "    <tr>\n",
              "      <th>2</th>\n",
              "      <td>1998-07-01</td>\n",
              "      <td>Quake II</td>\n",
              "      <td>15000.0</td>\n",
              "      <td>5</td>\n",
              "      <td>1</td>\n",
              "      <td>First-Person Shooter</td>\n",
              "      <td>1998</td>\n",
              "      <td>7</td>\n",
              "    </tr>\n",
              "    <tr>\n",
              "      <th>3</th>\n",
              "      <td>1998-07-01</td>\n",
              "      <td>QuakeWorld</td>\n",
              "      <td>6500.0</td>\n",
              "      <td>4</td>\n",
              "      <td>1</td>\n",
              "      <td>First-Person Shooter</td>\n",
              "      <td>1998</td>\n",
              "      <td>7</td>\n",
              "    </tr>\n",
              "    <tr>\n",
              "      <th>4</th>\n",
              "      <td>1998-11-01</td>\n",
              "      <td>Quake II</td>\n",
              "      <td>36600.0</td>\n",
              "      <td>13</td>\n",
              "      <td>2</td>\n",
              "      <td>First-Person Shooter</td>\n",
              "      <td>1998</td>\n",
              "      <td>11</td>\n",
              "    </tr>\n",
              "  </tbody>\n",
              "</table>\n",
              "</div>"
            ],
            "text/plain": [
              "        Date        Game  Earnings  ...                 Genre  year month\n",
              "0 1998-01-01  QuakeWorld   15000.0  ...  First-Person Shooter  1998     1\n",
              "1 1998-05-01    Quake II   14600.0  ...  First-Person Shooter  1998     5\n",
              "2 1998-07-01    Quake II   15000.0  ...  First-Person Shooter  1998     7\n",
              "3 1998-07-01  QuakeWorld    6500.0  ...  First-Person Shooter  1998     7\n",
              "4 1998-11-01    Quake II   36600.0  ...  First-Person Shooter  1998    11\n",
              "\n",
              "[5 rows x 8 columns]"
            ]
          },
          "metadata": {
            "tags": []
          },
          "execution_count": 11
        }
      ]
    },
    {
      "cell_type": "markdown",
      "metadata": {
        "id": "ZuccqoIzEEkf"
      },
      "source": [
        "We group the historical data by Game, year and month. Then we could view the monthly data for each game."
      ]
    },
    {
      "cell_type": "code",
      "metadata": {
        "colab": {
          "base_uri": "https://localhost:8080/"
        },
        "id": "ShhsRAz1Bp5m",
        "outputId": "65436e98-d1d2-4b1c-fddc-6c90f954c630"
      },
      "source": [
        "monthly_dataset_bygame =  df_histwithtype.groupby(['Game','year','month']).sum()\n",
        "print(monthly_dataset_bygame)"
      ],
      "execution_count": null,
      "outputs": [
        {
          "output_type": "stream",
          "text": [
            "                      Earnings  Players  Tournaments\n",
            "Game      year month                                \n",
            "ARMS      2017 7        1135.0       13            3\n",
            "               8          66.0        2            1\n",
            "               10        261.0        3            2\n",
            "               11        695.0        9            4\n",
            "               12       1100.1        9            3\n",
            "...                        ...      ...          ...\n",
            "rFactor 2 2020 9        2047.5        3            1\n",
            "               10       2065.0        3            1\n",
            "               12      21315.0       27            2\n",
            "          2021 1       12100.0       10            1\n",
            "               3        1011.5        3            1\n",
            "\n",
            "[6513 rows x 3 columns]\n"
          ],
          "name": "stdout"
        }
      ]
    },
    {
      "cell_type": "markdown",
      "metadata": {
        "id": "n_xo-RV3dkiQ"
      },
      "source": [
        "## Descriptive statistics of monthly data\n",
        "* Earnings: The mean is \\$146634.6 and median is \\$9555.45\n",
        "* Players: The mean is 52.45 and median is 15.00\n",
        "* Tournaments: The mean is 6.66 and median is 2.00"
      ]
    },
    {
      "cell_type": "code",
      "metadata": {
        "colab": {
          "base_uri": "https://localhost:8080/",
          "height": 300
        },
        "id": "OGpBoChNRy4i",
        "outputId": "8c39833f-4b0d-4754-d45c-70caf85cb8c4"
      },
      "source": [
        "pd.options.display.float_format = '{:.2f}'.format\n",
        "monthly_dataset_bygame.describe()"
      ],
      "execution_count": null,
      "outputs": [
        {
          "output_type": "execute_result",
          "data": {
            "text/html": [
              "<div>\n",
              "<style scoped>\n",
              "    .dataframe tbody tr th:only-of-type {\n",
              "        vertical-align: middle;\n",
              "    }\n",
              "\n",
              "    .dataframe tbody tr th {\n",
              "        vertical-align: top;\n",
              "    }\n",
              "\n",
              "    .dataframe thead th {\n",
              "        text-align: right;\n",
              "    }\n",
              "</style>\n",
              "<table border=\"1\" class=\"dataframe\">\n",
              "  <thead>\n",
              "    <tr style=\"text-align: right;\">\n",
              "      <th></th>\n",
              "      <th>Earnings</th>\n",
              "      <th>Players</th>\n",
              "      <th>Tournaments</th>\n",
              "    </tr>\n",
              "  </thead>\n",
              "  <tbody>\n",
              "    <tr>\n",
              "      <th>count</th>\n",
              "      <td>6513.00</td>\n",
              "      <td>6513.00</td>\n",
              "      <td>6513.00</td>\n",
              "    </tr>\n",
              "    <tr>\n",
              "      <th>mean</th>\n",
              "      <td>146634.60</td>\n",
              "      <td>52.45</td>\n",
              "      <td>6.66</td>\n",
              "    </tr>\n",
              "    <tr>\n",
              "      <th>std</th>\n",
              "      <td>946680.86</td>\n",
              "      <td>118.20</td>\n",
              "      <td>12.36</td>\n",
              "    </tr>\n",
              "    <tr>\n",
              "      <th>min</th>\n",
              "      <td>0.00</td>\n",
              "      <td>0.00</td>\n",
              "      <td>1.00</td>\n",
              "    </tr>\n",
              "    <tr>\n",
              "      <th>25%</th>\n",
              "      <td>1000.00</td>\n",
              "      <td>5.00</td>\n",
              "      <td>1.00</td>\n",
              "    </tr>\n",
              "    <tr>\n",
              "      <th>50%</th>\n",
              "      <td>9555.45</td>\n",
              "      <td>15.00</td>\n",
              "      <td>2.00</td>\n",
              "    </tr>\n",
              "    <tr>\n",
              "      <th>75%</th>\n",
              "      <td>56500.00</td>\n",
              "      <td>44.00</td>\n",
              "      <td>6.00</td>\n",
              "    </tr>\n",
              "    <tr>\n",
              "      <th>max</th>\n",
              "      <td>36713555.90</td>\n",
              "      <td>1699.00</td>\n",
              "      <td>172.00</td>\n",
              "    </tr>\n",
              "  </tbody>\n",
              "</table>\n",
              "</div>"
            ],
            "text/plain": [
              "         Earnings  Players  Tournaments\n",
              "count     6513.00  6513.00      6513.00\n",
              "mean    146634.60    52.45         6.66\n",
              "std     946680.86   118.20        12.36\n",
              "min          0.00     0.00         1.00\n",
              "25%       1000.00     5.00         1.00\n",
              "50%       9555.45    15.00         2.00\n",
              "75%      56500.00    44.00         6.00\n",
              "max   36713555.90  1699.00       172.00"
            ]
          },
          "metadata": {
            "tags": []
          },
          "execution_count": 15
        }
      ]
    },
    {
      "cell_type": "markdown",
      "metadata": {
        "id": "QaMKNkDHfDo7"
      },
      "source": [
        "## Descriptive statistics of general dataset\n",
        "* TotalEarnings: The mean is \\$ 1831070.00 and median is \\$ 37952.83\n",
        "* OnlineEarnings: The mean is \\$ 1416295.56 and median is \\$18687.15\n",
        "* TotalPlayers: The mean is 191.69 and median is 20.00\n",
        "* TotalTournments: The mean is 82.93 and median is 5.00"
      ]
    },
    {
      "cell_type": "code",
      "metadata": {
        "colab": {
          "base_uri": "https://localhost:8080/",
          "height": 300
        },
        "id": "-T9VL2jmY9kY",
        "outputId": "2d53905d-2f90-4000-d851-8bcd5fcde402"
      },
      "source": [
        "df_general.drop('ReleaseDate',axis=1).describe()"
      ],
      "execution_count": null,
      "outputs": [
        {
          "output_type": "execute_result",
          "data": {
            "text/html": [
              "<div>\n",
              "<style scoped>\n",
              "    .dataframe tbody tr th:only-of-type {\n",
              "        vertical-align: middle;\n",
              "    }\n",
              "\n",
              "    .dataframe tbody tr th {\n",
              "        vertical-align: top;\n",
              "    }\n",
              "\n",
              "    .dataframe thead th {\n",
              "        text-align: right;\n",
              "    }\n",
              "</style>\n",
              "<table border=\"1\" class=\"dataframe\">\n",
              "  <thead>\n",
              "    <tr style=\"text-align: right;\">\n",
              "      <th></th>\n",
              "      <th>TotalEarnings</th>\n",
              "      <th>OnlineEarnings</th>\n",
              "      <th>TotalPlayers</th>\n",
              "      <th>TotalTournaments</th>\n",
              "    </tr>\n",
              "  </thead>\n",
              "  <tbody>\n",
              "    <tr>\n",
              "      <th>count</th>\n",
              "      <td>520.00</td>\n",
              "      <td>520.00</td>\n",
              "      <td>520.00</td>\n",
              "      <td>520.00</td>\n",
              "    </tr>\n",
              "    <tr>\n",
              "      <th>mean</th>\n",
              "      <td>1831070.00</td>\n",
              "      <td>1416295.56</td>\n",
              "      <td>191.69</td>\n",
              "      <td>82.93</td>\n",
              "    </tr>\n",
              "    <tr>\n",
              "      <th>std</th>\n",
              "      <td>13007304.70</td>\n",
              "      <td>10917266.14</td>\n",
              "      <td>815.97</td>\n",
              "      <td>422.41</td>\n",
              "    </tr>\n",
              "    <tr>\n",
              "      <th>min</th>\n",
              "      <td>0.00</td>\n",
              "      <td>0.00</td>\n",
              "      <td>0.00</td>\n",
              "      <td>0.00</td>\n",
              "    </tr>\n",
              "    <tr>\n",
              "      <th>25%</th>\n",
              "      <td>1375.20</td>\n",
              "      <td>0.00</td>\n",
              "      <td>4.00</td>\n",
              "      <td>1.00</td>\n",
              "    </tr>\n",
              "    <tr>\n",
              "      <th>50%</th>\n",
              "      <td>37952.83</td>\n",
              "      <td>18687.15</td>\n",
              "      <td>20.00</td>\n",
              "      <td>5.00</td>\n",
              "    </tr>\n",
              "    <tr>\n",
              "      <th>75%</th>\n",
              "      <td>208222.46</td>\n",
              "      <td>140722.50</td>\n",
              "      <td>90.25</td>\n",
              "      <td>23.25</td>\n",
              "    </tr>\n",
              "    <tr>\n",
              "      <th>max</th>\n",
              "      <td>231860237.22</td>\n",
              "      <td>214390391.34</td>\n",
              "      <td>13531.00</td>\n",
              "      <td>6066.00</td>\n",
              "    </tr>\n",
              "  </tbody>\n",
              "</table>\n",
              "</div>"
            ],
            "text/plain": [
              "       TotalEarnings  OnlineEarnings  TotalPlayers  TotalTournaments\n",
              "count         520.00          520.00        520.00            520.00\n",
              "mean      1831070.00      1416295.56        191.69             82.93\n",
              "std      13007304.70     10917266.14        815.97            422.41\n",
              "min             0.00            0.00          0.00              0.00\n",
              "25%          1375.20            0.00          4.00              1.00\n",
              "50%         37952.83        18687.15         20.00              5.00\n",
              "75%        208222.46       140722.50         90.25             23.25\n",
              "max     231860237.22    214390391.34      13531.00           6066.00"
            ]
          },
          "metadata": {
            "tags": []
          },
          "execution_count": 16
        }
      ]
    },
    {
      "cell_type": "markdown",
      "metadata": {
        "id": "NKJbazBGfiSo"
      },
      "source": [
        "## Summary of general e-sport earnings by Genre\n",
        "* Most games are fighting games and first-pearson shooter.\n",
        "* Only six games are role-playing games.\n",
        "* Only eight games are third-person shooter."
      ]
    },
    {
      "cell_type": "code",
      "metadata": {
        "colab": {
          "base_uri": "https://localhost:8080/"
        },
        "id": "EB76v5NVZeL4",
        "outputId": "f379928d-19c6-4a10-9c9e-f5a3bea3e417"
      },
      "source": [
        "df_general['Genre'].value_counts()"
      ],
      "execution_count": null,
      "outputs": [
        {
          "output_type": "execute_result",
          "data": {
            "text/plain": [
              "Fighting Game                      164\n",
              "First-Person Shooter               106\n",
              "Sports                              68\n",
              "Racing                              52\n",
              "Strategy                            51\n",
              "Multiplayer Online Battle Arena     21\n",
              "Collectible Card Game               17\n",
              "Puzzle Game                         14\n",
              "Battle Royale                       13\n",
              "Third-Person Shooter                 8\n",
              "Role-Playing Game                    6\n",
              "Name: Genre, dtype: int64"
            ]
          },
          "metadata": {
            "tags": []
          },
          "execution_count": 17
        }
      ]
    },
    {
      "cell_type": "code",
      "metadata": {
        "colab": {
          "base_uri": "https://localhost:8080/",
          "height": 631
        },
        "id": "x5ka2LDlaoon",
        "outputId": "9831a894-c95f-421d-fdd3-be8a0494d5bd"
      },
      "source": [
        "fig = plt.figure(figsize =(20, 10))\n",
        "df_general['Genre'].value_counts().plot.pie(label=\"Game_Types\", autopct='%.3f%%', fontsize = 11,labeldistance=1,rotatelabels=20)\n",
        "plt.title(\"Pie Chart of e-sports by game types\")"
      ],
      "execution_count": null,
      "outputs": [
        {
          "output_type": "execute_result",
          "data": {
            "text/plain": [
              "Text(0.5, 1.0, 'Pie Chart of e-sports by game types')"
            ]
          },
          "metadata": {
            "tags": []
          },
          "execution_count": 18
        },
        {
          "output_type": "display_data",
          "data": {
            "image/png": "[encoded data removed]",
            "text/plain": [
              "<Figure size 1440x720 with 1 Axes>"
            ]
          },
          "metadata": {
            "tags": []
          }
        }
      ]
    },
    {
      "cell_type": "markdown",
      "metadata": {
        "id": "OnRkFOtzUeT8"
      },
      "source": [
        "##  Top 10 games by total prize pool allocated in tournaments"
      ]
    },
    {
      "cell_type": "markdown",
      "metadata": {
        "id": "a9w5nxNAeMH7"
      },
      "source": [
        "* Most games are multiplayer online  battle arena and first-person shooter\n",
        "* There is only one sport game in top 10 highest total prize pool allocated in tournaments."
      ]
    },
    {
      "cell_type": "code",
      "metadata": {
        "colab": {
          "base_uri": "https://localhost:8080/",
          "height": 467
        },
        "id": "79uDt92TTw6l",
        "outputId": "3b3201a1-b93c-427f-d025-aa998761445f"
      },
      "source": [
        "df_general.sort_values('TotalEarnings',ascending=False).head(10)"
      ],
      "execution_count": null,
      "outputs": [
        {
          "output_type": "execute_result",
          "data": {
            "text/html": [
              "<div>\n",
              "<style scoped>\n",
              "    .dataframe tbody tr th:only-of-type {\n",
              "        vertical-align: middle;\n",
              "    }\n",
              "\n",
              "    .dataframe tbody tr th {\n",
              "        vertical-align: top;\n",
              "    }\n",
              "\n",
              "    .dataframe thead th {\n",
              "        text-align: right;\n",
              "    }\n",
              "</style>\n",
              "<table border=\"1\" class=\"dataframe\">\n",
              "  <thead>\n",
              "    <tr style=\"text-align: right;\">\n",
              "      <th></th>\n",
              "      <th>Game</th>\n",
              "      <th>ReleaseDate</th>\n",
              "      <th>Genre</th>\n",
              "      <th>TotalEarnings</th>\n",
              "      <th>OnlineEarnings</th>\n",
              "      <th>TotalPlayers</th>\n",
              "      <th>TotalTournaments</th>\n",
              "    </tr>\n",
              "  </thead>\n",
              "  <tbody>\n",
              "    <tr>\n",
              "      <th>163</th>\n",
              "      <td>Dota 2</td>\n",
              "      <td>2013</td>\n",
              "      <td>Multiplayer Online Battle Arena</td>\n",
              "      <td>231860237.22</td>\n",
              "      <td>214390391.34</td>\n",
              "      <td>3999</td>\n",
              "      <td>1496</td>\n",
              "    </tr>\n",
              "    <tr>\n",
              "      <th>85</th>\n",
              "      <td>Counter-Strike: Global Offensive</td>\n",
              "      <td>2012</td>\n",
              "      <td>First-Person Shooter</td>\n",
              "      <td>112019077.11</td>\n",
              "      <td>75379935.79</td>\n",
              "      <td>13531</td>\n",
              "      <td>5532</td>\n",
              "    </tr>\n",
              "    <tr>\n",
              "      <th>502</th>\n",
              "      <td>Fortnite</td>\n",
              "      <td>2017</td>\n",
              "      <td>Battle Royale</td>\n",
              "      <td>102261009.13</td>\n",
              "      <td>42159597.59</td>\n",
              "      <td>4554</td>\n",
              "      <td>685</td>\n",
              "    </tr>\n",
              "    <tr>\n",
              "      <th>168</th>\n",
              "      <td>League of Legends</td>\n",
              "      <td>2009</td>\n",
              "      <td>Multiplayer Online Battle Arena</td>\n",
              "      <td>83048606.83</td>\n",
              "      <td>74989487.17</td>\n",
              "      <td>7385</td>\n",
              "      <td>2509</td>\n",
              "    </tr>\n",
              "    <tr>\n",
              "      <th>34</th>\n",
              "      <td>StarCraft II</td>\n",
              "      <td>2010</td>\n",
              "      <td>Strategy</td>\n",
              "      <td>34734474.78</td>\n",
              "      <td>29074484.73</td>\n",
              "      <td>2087</td>\n",
              "      <td>6066</td>\n",
              "    </tr>\n",
              "    <tr>\n",
              "      <th>506</th>\n",
              "      <td>PLAYERUNKNOWN’S BATTLEGROUNDS</td>\n",
              "      <td>2017</td>\n",
              "      <td>Battle Royale</td>\n",
              "      <td>32853449.92</td>\n",
              "      <td>27081978.40</td>\n",
              "      <td>2967</td>\n",
              "      <td>327</td>\n",
              "    </tr>\n",
              "    <tr>\n",
              "      <th>118</th>\n",
              "      <td>Overwatch</td>\n",
              "      <td>2016</td>\n",
              "      <td>First-Person Shooter</td>\n",
              "      <td>26750317.28</td>\n",
              "      <td>18227464.45</td>\n",
              "      <td>3532</td>\n",
              "      <td>747</td>\n",
              "    </tr>\n",
              "    <tr>\n",
              "      <th>473</th>\n",
              "      <td>Hearthstone</td>\n",
              "      <td>2014</td>\n",
              "      <td>Collectible Card Game</td>\n",
              "      <td>24564783.47</td>\n",
              "      <td>18482179.57</td>\n",
              "      <td>2460</td>\n",
              "      <td>914</td>\n",
              "    </tr>\n",
              "    <tr>\n",
              "      <th>157</th>\n",
              "      <td>Arena of Valor</td>\n",
              "      <td>2015</td>\n",
              "      <td>Multiplayer Online Battle Arena</td>\n",
              "      <td>24093832.78</td>\n",
              "      <td>22409531.67</td>\n",
              "      <td>681</td>\n",
              "      <td>62</td>\n",
              "    </tr>\n",
              "    <tr>\n",
              "      <th>166</th>\n",
              "      <td>Heroes of the Storm</td>\n",
              "      <td>2015</td>\n",
              "      <td>Multiplayer Online Battle Arena</td>\n",
              "      <td>18188482.65</td>\n",
              "      <td>14196415.95</td>\n",
              "      <td>1253</td>\n",
              "      <td>475</td>\n",
              "    </tr>\n",
              "  </tbody>\n",
              "</table>\n",
              "</div>"
            ],
            "text/plain": [
              "                                 Game  ...  TotalTournaments\n",
              "163                            Dota 2  ...              1496\n",
              "85   Counter-Strike: Global Offensive  ...              5532\n",
              "502                          Fortnite  ...               685\n",
              "168                 League of Legends  ...              2509\n",
              "34                       StarCraft II  ...              6066\n",
              "506     PLAYERUNKNOWN’S BATTLEGROUNDS  ...               327\n",
              "118                         Overwatch  ...               747\n",
              "473                       Hearthstone  ...               914\n",
              "157                    Arena of Valor  ...                62\n",
              "166               Heroes of the Storm  ...               475\n",
              "\n",
              "[10 rows x 7 columns]"
            ]
          },
          "metadata": {
            "tags": []
          },
          "execution_count": 19
        }
      ]
    },
    {
      "cell_type": "markdown",
      "metadata": {
        "id": "rHih2c-AUxWA"
      },
      "source": [
        "## Top 10 games by total prize pool allocated in online only tournaments"
      ]
    },
    {
      "cell_type": "markdown",
      "metadata": {
        "id": "lEfT6EEjVUJ-"
      },
      "source": [
        "All top 10 games are the same in previous section. But some ranks are different. Top 2 games are still Dota 2 and CS which same as previous section."
      ]
    },
    {
      "cell_type": "code",
      "metadata": {
        "colab": {
          "base_uri": "https://localhost:8080/",
          "height": 467
        },
        "id": "HLnQqW7wUQz8",
        "outputId": "53ffadfa-90da-4aa3-8056-285db9532dd9"
      },
      "source": [
        "df_general.sort_values('OnlineEarnings',ascending=False).head(10)"
      ],
      "execution_count": null,
      "outputs": [
        {
          "output_type": "execute_result",
          "data": {
            "text/html": [
              "<div>\n",
              "<style scoped>\n",
              "    .dataframe tbody tr th:only-of-type {\n",
              "        vertical-align: middle;\n",
              "    }\n",
              "\n",
              "    .dataframe tbody tr th {\n",
              "        vertical-align: top;\n",
              "    }\n",
              "\n",
              "    .dataframe thead th {\n",
              "        text-align: right;\n",
              "    }\n",
              "</style>\n",
              "<table border=\"1\" class=\"dataframe\">\n",
              "  <thead>\n",
              "    <tr style=\"text-align: right;\">\n",
              "      <th></th>\n",
              "      <th>Game</th>\n",
              "      <th>ReleaseDate</th>\n",
              "      <th>Genre</th>\n",
              "      <th>TotalEarnings</th>\n",
              "      <th>OnlineEarnings</th>\n",
              "      <th>TotalPlayers</th>\n",
              "      <th>TotalTournaments</th>\n",
              "    </tr>\n",
              "  </thead>\n",
              "  <tbody>\n",
              "    <tr>\n",
              "      <th>163</th>\n",
              "      <td>Dota 2</td>\n",
              "      <td>2013</td>\n",
              "      <td>Multiplayer Online Battle Arena</td>\n",
              "      <td>231860237.22</td>\n",
              "      <td>214390391.34</td>\n",
              "      <td>3999</td>\n",
              "      <td>1496</td>\n",
              "    </tr>\n",
              "    <tr>\n",
              "      <th>85</th>\n",
              "      <td>Counter-Strike: Global Offensive</td>\n",
              "      <td>2012</td>\n",
              "      <td>First-Person Shooter</td>\n",
              "      <td>112019077.11</td>\n",
              "      <td>75379935.79</td>\n",
              "      <td>13531</td>\n",
              "      <td>5532</td>\n",
              "    </tr>\n",
              "    <tr>\n",
              "      <th>168</th>\n",
              "      <td>League of Legends</td>\n",
              "      <td>2009</td>\n",
              "      <td>Multiplayer Online Battle Arena</td>\n",
              "      <td>83048606.83</td>\n",
              "      <td>74989487.17</td>\n",
              "      <td>7385</td>\n",
              "      <td>2509</td>\n",
              "    </tr>\n",
              "    <tr>\n",
              "      <th>502</th>\n",
              "      <td>Fortnite</td>\n",
              "      <td>2017</td>\n",
              "      <td>Battle Royale</td>\n",
              "      <td>102261009.13</td>\n",
              "      <td>42159597.59</td>\n",
              "      <td>4554</td>\n",
              "      <td>685</td>\n",
              "    </tr>\n",
              "    <tr>\n",
              "      <th>34</th>\n",
              "      <td>StarCraft II</td>\n",
              "      <td>2010</td>\n",
              "      <td>Strategy</td>\n",
              "      <td>34734474.78</td>\n",
              "      <td>29074484.73</td>\n",
              "      <td>2087</td>\n",
              "      <td>6066</td>\n",
              "    </tr>\n",
              "    <tr>\n",
              "      <th>506</th>\n",
              "      <td>PLAYERUNKNOWN’S BATTLEGROUNDS</td>\n",
              "      <td>2017</td>\n",
              "      <td>Battle Royale</td>\n",
              "      <td>32853449.92</td>\n",
              "      <td>27081978.40</td>\n",
              "      <td>2967</td>\n",
              "      <td>327</td>\n",
              "    </tr>\n",
              "    <tr>\n",
              "      <th>157</th>\n",
              "      <td>Arena of Valor</td>\n",
              "      <td>2015</td>\n",
              "      <td>Multiplayer Online Battle Arena</td>\n",
              "      <td>24093832.78</td>\n",
              "      <td>22409531.67</td>\n",
              "      <td>681</td>\n",
              "      <td>62</td>\n",
              "    </tr>\n",
              "    <tr>\n",
              "      <th>473</th>\n",
              "      <td>Hearthstone</td>\n",
              "      <td>2014</td>\n",
              "      <td>Collectible Card Game</td>\n",
              "      <td>24564783.47</td>\n",
              "      <td>18482179.57</td>\n",
              "      <td>2460</td>\n",
              "      <td>914</td>\n",
              "    </tr>\n",
              "    <tr>\n",
              "      <th>118</th>\n",
              "      <td>Overwatch</td>\n",
              "      <td>2016</td>\n",
              "      <td>First-Person Shooter</td>\n",
              "      <td>26750317.28</td>\n",
              "      <td>18227464.45</td>\n",
              "      <td>3532</td>\n",
              "      <td>747</td>\n",
              "    </tr>\n",
              "    <tr>\n",
              "      <th>166</th>\n",
              "      <td>Heroes of the Storm</td>\n",
              "      <td>2015</td>\n",
              "      <td>Multiplayer Online Battle Arena</td>\n",
              "      <td>18188482.65</td>\n",
              "      <td>14196415.95</td>\n",
              "      <td>1253</td>\n",
              "      <td>475</td>\n",
              "    </tr>\n",
              "  </tbody>\n",
              "</table>\n",
              "</div>"
            ],
            "text/plain": [
              "                                 Game  ...  TotalTournaments\n",
              "163                            Dota 2  ...              1496\n",
              "85   Counter-Strike: Global Offensive  ...              5532\n",
              "168                 League of Legends  ...              2509\n",
              "502                          Fortnite  ...               685\n",
              "34                       StarCraft II  ...              6066\n",
              "506     PLAYERUNKNOWN’S BATTLEGROUNDS  ...               327\n",
              "157                    Arena of Valor  ...                62\n",
              "473                       Hearthstone  ...               914\n",
              "118                         Overwatch  ...               747\n",
              "166               Heroes of the Storm  ...               475\n",
              "\n",
              "[10 rows x 7 columns]"
            ]
          },
          "metadata": {
            "tags": []
          },
          "execution_count": 20
        }
      ]
    },
    {
      "cell_type": "markdown",
      "metadata": {
        "id": "-K1N36wzteuX"
      },
      "source": [
        "## Top 10 games by total amount of players who received a prize"
      ]
    },
    {
      "cell_type": "markdown",
      "metadata": {
        "id": "qoHfxd_Rt7Mw"
      },
      "source": [
        "CS, LOL and Fortnite are top 3 games. VALORANT is the only game that appeared in this ranking but did not appear in previous two rankings."
      ]
    },
    {
      "cell_type": "code",
      "metadata": {
        "colab": {
          "base_uri": "https://localhost:8080/",
          "height": 433
        },
        "id": "6oClKyw0tyDn",
        "outputId": "9e0f33d8-8e31-474a-cfd1-8ece68444ef3"
      },
      "source": [
        "df_general.sort_values('TotalPlayers',ascending=False).head(10)"
      ],
      "execution_count": null,
      "outputs": [
        {
          "output_type": "execute_result",
          "data": {
            "text/html": [
              "<div>\n",
              "<style scoped>\n",
              "    .dataframe tbody tr th:only-of-type {\n",
              "        vertical-align: middle;\n",
              "    }\n",
              "\n",
              "    .dataframe tbody tr th {\n",
              "        vertical-align: top;\n",
              "    }\n",
              "\n",
              "    .dataframe thead th {\n",
              "        text-align: right;\n",
              "    }\n",
              "</style>\n",
              "<table border=\"1\" class=\"dataframe\">\n",
              "  <thead>\n",
              "    <tr style=\"text-align: right;\">\n",
              "      <th></th>\n",
              "      <th>Game</th>\n",
              "      <th>ReleaseDate</th>\n",
              "      <th>Genre</th>\n",
              "      <th>TotalEarnings</th>\n",
              "      <th>OnlineEarnings</th>\n",
              "      <th>TotalPlayers</th>\n",
              "      <th>TotalTournaments</th>\n",
              "    </tr>\n",
              "  </thead>\n",
              "  <tbody>\n",
              "    <tr>\n",
              "      <th>85</th>\n",
              "      <td>Counter-Strike: Global Offensive</td>\n",
              "      <td>2012</td>\n",
              "      <td>First-Person Shooter</td>\n",
              "      <td>112019077.11</td>\n",
              "      <td>75379935.79</td>\n",
              "      <td>13531</td>\n",
              "      <td>5532</td>\n",
              "    </tr>\n",
              "    <tr>\n",
              "      <th>168</th>\n",
              "      <td>League of Legends</td>\n",
              "      <td>2009</td>\n",
              "      <td>Multiplayer Online Battle Arena</td>\n",
              "      <td>83048606.83</td>\n",
              "      <td>74989487.17</td>\n",
              "      <td>7385</td>\n",
              "      <td>2509</td>\n",
              "    </tr>\n",
              "    <tr>\n",
              "      <th>502</th>\n",
              "      <td>Fortnite</td>\n",
              "      <td>2017</td>\n",
              "      <td>Battle Royale</td>\n",
              "      <td>102261009.13</td>\n",
              "      <td>42159597.59</td>\n",
              "      <td>4554</td>\n",
              "      <td>685</td>\n",
              "    </tr>\n",
              "    <tr>\n",
              "      <th>82</th>\n",
              "      <td>Counter-Strike</td>\n",
              "      <td>2000</td>\n",
              "      <td>First-Person Shooter</td>\n",
              "      <td>13529661.03</td>\n",
              "      <td>12816431.29</td>\n",
              "      <td>4141</td>\n",
              "      <td>997</td>\n",
              "    </tr>\n",
              "    <tr>\n",
              "      <th>163</th>\n",
              "      <td>Dota 2</td>\n",
              "      <td>2013</td>\n",
              "      <td>Multiplayer Online Battle Arena</td>\n",
              "      <td>231860237.22</td>\n",
              "      <td>214390391.34</td>\n",
              "      <td>3999</td>\n",
              "      <td>1496</td>\n",
              "    </tr>\n",
              "    <tr>\n",
              "      <th>118</th>\n",
              "      <td>Overwatch</td>\n",
              "      <td>2016</td>\n",
              "      <td>First-Person Shooter</td>\n",
              "      <td>26750317.28</td>\n",
              "      <td>18227464.45</td>\n",
              "      <td>3532</td>\n",
              "      <td>747</td>\n",
              "    </tr>\n",
              "    <tr>\n",
              "      <th>506</th>\n",
              "      <td>PLAYERUNKNOWN’S BATTLEGROUNDS</td>\n",
              "      <td>2017</td>\n",
              "      <td>Battle Royale</td>\n",
              "      <td>32853449.92</td>\n",
              "      <td>27081978.40</td>\n",
              "      <td>2967</td>\n",
              "      <td>327</td>\n",
              "    </tr>\n",
              "    <tr>\n",
              "      <th>473</th>\n",
              "      <td>Hearthstone</td>\n",
              "      <td>2014</td>\n",
              "      <td>Collectible Card Game</td>\n",
              "      <td>24564783.47</td>\n",
              "      <td>18482179.57</td>\n",
              "      <td>2460</td>\n",
              "      <td>914</td>\n",
              "    </tr>\n",
              "    <tr>\n",
              "      <th>151</th>\n",
              "      <td>VALORANT</td>\n",
              "      <td>2020</td>\n",
              "      <td>First-Person Shooter</td>\n",
              "      <td>2890044.69</td>\n",
              "      <td>211228.00</td>\n",
              "      <td>2247</td>\n",
              "      <td>317</td>\n",
              "    </tr>\n",
              "    <tr>\n",
              "      <th>34</th>\n",
              "      <td>StarCraft II</td>\n",
              "      <td>2010</td>\n",
              "      <td>Strategy</td>\n",
              "      <td>34734474.78</td>\n",
              "      <td>29074484.73</td>\n",
              "      <td>2087</td>\n",
              "      <td>6066</td>\n",
              "    </tr>\n",
              "  </tbody>\n",
              "</table>\n",
              "</div>"
            ],
            "text/plain": [
              "                                 Game  ...  TotalTournaments\n",
              "85   Counter-Strike: Global Offensive  ...              5532\n",
              "168                 League of Legends  ...              2509\n",
              "502                          Fortnite  ...               685\n",
              "82                     Counter-Strike  ...               997\n",
              "163                            Dota 2  ...              1496\n",
              "118                         Overwatch  ...               747\n",
              "506     PLAYERUNKNOWN’S BATTLEGROUNDS  ...               327\n",
              "473                       Hearthstone  ...               914\n",
              "151                          VALORANT  ...               317\n",
              "34                       StarCraft II  ...              6066\n",
              "\n",
              "[10 rows x 7 columns]"
            ]
          },
          "metadata": {
            "tags": []
          },
          "execution_count": 51
        }
      ]
    },
    {
      "cell_type": "markdown",
      "metadata": {
        "id": "4cdCyBU4jVzY"
      },
      "source": [
        "## COVID 19 Impact"
      ]
    },
    {
      "cell_type": "markdown",
      "metadata": {
        "id": "iUi0zU-3nPnW"
      },
      "source": [
        "### Earnings Distribution\n"
      ]
    },
    {
      "cell_type": "code",
      "metadata": {
        "colab": {
          "base_uri": "https://localhost:8080/",
          "height": 424
        },
        "id": "cWv2bWv9Wez4",
        "outputId": "91d593e4-7a97-4d14-fceb-c69b285f44b7"
      },
      "source": [
        "df_year = df_histwithtype.groupby(['year','month']).sum().reset_index()\n",
        "df_year['Time']=pd.to_datetime(df_year['year'].astype(str) + '/' + df_year['month'].astype(str))\n",
        "df_year"
      ],
      "execution_count": null,
      "outputs": [
        {
          "output_type": "execute_result",
          "data": {
            "text/html": [
              "<div>\n",
              "<style scoped>\n",
              "    .dataframe tbody tr th:only-of-type {\n",
              "        vertical-align: middle;\n",
              "    }\n",
              "\n",
              "    .dataframe tbody tr th {\n",
              "        vertical-align: top;\n",
              "    }\n",
              "\n",
              "    .dataframe thead th {\n",
              "        text-align: right;\n",
              "    }\n",
              "</style>\n",
              "<table border=\"1\" class=\"dataframe\">\n",
              "  <thead>\n",
              "    <tr style=\"text-align: right;\">\n",
              "      <th></th>\n",
              "      <th>year</th>\n",
              "      <th>month</th>\n",
              "      <th>Earnings</th>\n",
              "      <th>Players</th>\n",
              "      <th>Tournaments</th>\n",
              "      <th>Time</th>\n",
              "    </tr>\n",
              "  </thead>\n",
              "  <tbody>\n",
              "    <tr>\n",
              "      <th>0</th>\n",
              "      <td>1998</td>\n",
              "      <td>1</td>\n",
              "      <td>15000.00</td>\n",
              "      <td>8</td>\n",
              "      <td>1</td>\n",
              "      <td>1998-01-01</td>\n",
              "    </tr>\n",
              "    <tr>\n",
              "      <th>1</th>\n",
              "      <td>1998</td>\n",
              "      <td>5</td>\n",
              "      <td>14600.00</td>\n",
              "      <td>4</td>\n",
              "      <td>1</td>\n",
              "      <td>1998-05-01</td>\n",
              "    </tr>\n",
              "    <tr>\n",
              "      <th>2</th>\n",
              "      <td>1998</td>\n",
              "      <td>7</td>\n",
              "      <td>21500.00</td>\n",
              "      <td>9</td>\n",
              "      <td>2</td>\n",
              "      <td>1998-07-01</td>\n",
              "    </tr>\n",
              "    <tr>\n",
              "      <th>3</th>\n",
              "      <td>1998</td>\n",
              "      <td>11</td>\n",
              "      <td>78600.00</td>\n",
              "      <td>21</td>\n",
              "      <td>4</td>\n",
              "      <td>1998-11-01</td>\n",
              "    </tr>\n",
              "    <tr>\n",
              "      <th>4</th>\n",
              "      <td>1998</td>\n",
              "      <td>12</td>\n",
              "      <td>2000.00</td>\n",
              "      <td>1</td>\n",
              "      <td>1</td>\n",
              "      <td>1998-12-01</td>\n",
              "    </tr>\n",
              "    <tr>\n",
              "      <th>...</th>\n",
              "      <td>...</td>\n",
              "      <td>...</td>\n",
              "      <td>...</td>\n",
              "      <td>...</td>\n",
              "      <td>...</td>\n",
              "      <td>...</td>\n",
              "    </tr>\n",
              "    <tr>\n",
              "      <th>261</th>\n",
              "      <td>2020</td>\n",
              "      <td>11</td>\n",
              "      <td>11258805.21</td>\n",
              "      <td>4143</td>\n",
              "      <td>341</td>\n",
              "      <td>2020-11-01</td>\n",
              "    </tr>\n",
              "    <tr>\n",
              "      <th>262</th>\n",
              "      <td>2020</td>\n",
              "      <td>12</td>\n",
              "      <td>11549728.82</td>\n",
              "      <td>3870</td>\n",
              "      <td>326</td>\n",
              "      <td>2020-12-01</td>\n",
              "    </tr>\n",
              "    <tr>\n",
              "      <th>263</th>\n",
              "      <td>2021</td>\n",
              "      <td>1</td>\n",
              "      <td>6030645.41</td>\n",
              "      <td>2114</td>\n",
              "      <td>199</td>\n",
              "      <td>2021-01-01</td>\n",
              "    </tr>\n",
              "    <tr>\n",
              "      <th>264</th>\n",
              "      <td>2021</td>\n",
              "      <td>2</td>\n",
              "      <td>4075896.39</td>\n",
              "      <td>1862</td>\n",
              "      <td>176</td>\n",
              "      <td>2021-02-01</td>\n",
              "    </tr>\n",
              "    <tr>\n",
              "      <th>265</th>\n",
              "      <td>2021</td>\n",
              "      <td>3</td>\n",
              "      <td>13010918.07</td>\n",
              "      <td>2503</td>\n",
              "      <td>224</td>\n",
              "      <td>2021-03-01</td>\n",
              "    </tr>\n",
              "  </tbody>\n",
              "</table>\n",
              "<p>266 rows × 6 columns</p>\n",
              "</div>"
            ],
            "text/plain": [
              "     year  month    Earnings  Players  Tournaments       Time\n",
              "0    1998      1    15000.00        8            1 1998-01-01\n",
              "1    1998      5    14600.00        4            1 1998-05-01\n",
              "2    1998      7    21500.00        9            2 1998-07-01\n",
              "3    1998     11    78600.00       21            4 1998-11-01\n",
              "4    1998     12     2000.00        1            1 1998-12-01\n",
              "..    ...    ...         ...      ...          ...        ...\n",
              "261  2020     11 11258805.21     4143          341 2020-11-01\n",
              "262  2020     12 11549728.82     3870          326 2020-12-01\n",
              "263  2021      1  6030645.41     2114          199 2021-01-01\n",
              "264  2021      2  4075896.39     1862          176 2021-02-01\n",
              "265  2021      3 13010918.07     2503          224 2021-03-01\n",
              "\n",
              "[266 rows x 6 columns]"
            ]
          },
          "metadata": {
            "tags": []
          },
          "execution_count": 21
        }
      ]
    },
    {
      "cell_type": "code",
      "metadata": {
        "colab": {
          "base_uri": "https://localhost:8080/",
          "height": 365
        },
        "id": "f1V4xRvXjhip",
        "outputId": "57cb4e2a-8828-4487-b5f2-9343f465eebe"
      },
      "source": [
        "fig= plt.figure(figsize=(10,5))\n",
        "plt.plot(df_year['Time'],df_year['Earnings'])\n",
        "plt.axvline(x=pd.to_datetime('2020-01-01'),linestyle='dashed', linewidth=1,label = \"COVID 19 Started\")\n",
        "plt.text(pd.to_datetime('2020-02-01'), 5, \"COVID 19 Started\")\n",
        "plt.xlabel(\"Time\", labelpad=14)\n",
        "plt.ylabel(\"Earnings\", labelpad=14)\n",
        "plt.title(\"Earnings Distribution of e-sports \", y=1.02);"
      ],
      "execution_count": null,
      "outputs": [
        {
          "output_type": "display_data",
          "data": {
            "image/png": "[encoded data removed]",
            "text/plain": [
              "<Figure size 720x360 with 1 Axes>"
            ]
          },
          "metadata": {
            "tags": [],
            "needs_background": "light"
          }
        }
      ]
    },
    {
      "cell_type": "markdown",
      "metadata": {
        "id": "mnL7Z0IzWIaw"
      },
      "source": [
        "### Tournaments Distribution"
      ]
    },
    {
      "cell_type": "code",
      "metadata": {
        "colab": {
          "base_uri": "https://localhost:8080/",
          "height": 365
        },
        "id": "mweZc_Oid0Zc",
        "outputId": "8671536d-9e70-488d-b89e-c800d35a0db5"
      },
      "source": [
        "fig= plt.figure(figsize=(10,5))\n",
        "plt.plot(df_year['Time'],df_year['Tournaments'])\n",
        "plt.axvline(x=pd.to_datetime('2020-01-01'),linestyle='dashed', linewidth=1,label = \"COVID 19 Started\")\n",
        "plt.text(pd.to_datetime('2020-02-01'), 550, \"COVID 19 Started\")\n",
        "plt.xlabel(\"Time\", labelpad=14)\n",
        "plt.ylabel(\"Tournaments\", labelpad=14)\n",
        "plt.title(\"Tournaments Distribution of e-sports \", y=1.02);"
      ],
      "execution_count": null,
      "outputs": [
        {
          "output_type": "display_data",
          "data": {
            "image/png": "[encoded data removed]",
            "text/plain": [
              "<Figure size 720x360 with 1 Axes>"
            ]
          },
          "metadata": {
            "tags": [],
            "needs_background": "light"
          }
        }
      ]
    },
    {
      "cell_type": "markdown",
      "metadata": {
        "id": "2G0lq33hWPE9"
      },
      "source": [
        "### Players Distribution"
      ]
    },
    {
      "cell_type": "code",
      "metadata": {
        "colab": {
          "base_uri": "https://localhost:8080/",
          "height": 381
        },
        "id": "JS6lhfGAfead",
        "outputId": "5535d614-f32b-4fee-9773-07268ce7ad41"
      },
      "source": [
        "fig= plt.figure(figsize=(10,5))\n",
        "plt.plot(df_year['Time'],df_year['Players'])\n",
        "plt.axvline(x=pd.to_datetime('2020-01-01'),linestyle='dashed', linewidth=1,label = \"COVID 19 Started\")\n",
        "plt.text(pd.to_datetime('2020-02-01'), 5000, \"COVID 19 Started\")\n",
        "plt.xlabel(\"Time\", labelpad=30)\n",
        "plt.ylabel(\"Players\", labelpad=14)\n",
        "plt.title(\"Players Distribution of e-sports \", y=1.02);"
      ],
      "execution_count": null,
      "outputs": [
        {
          "output_type": "display_data",
          "data": {
            "image/png": "[encoded data removed]",
            "text/plain": [
              "<Figure size 720x360 with 1 Axes>"
            ]
          },
          "metadata": {
            "tags": [],
            "needs_background": "light"
          }
        }
      ]
    },
    {
      "cell_type": "markdown",
      "metadata": {
        "id": "CuSzvs8_nO6c"
      },
      "source": [
        "### Total players by game type\n",
        "* To find which game types give many players prizes.\n"
      ]
    },
    {
      "cell_type": "code",
      "metadata": {
        "colab": {
          "base_uri": "https://localhost:8080/",
          "height": 426
        },
        "id": "vBNTFHg_u2nz",
        "outputId": "d8c01883-9540-46cb-ba3f-2f7ed35bb165"
      },
      "source": [
        "df_pop = df_general.drop(\"ReleaseDate\",axis=1).groupby([\"Genre\"]).sum().reindex()\n",
        "df_pop"
      ],
      "execution_count": null,
      "outputs": [
        {
          "output_type": "execute_result",
          "data": {
            "text/html": [
              "<div>\n",
              "<style scoped>\n",
              "    .dataframe tbody tr th:only-of-type {\n",
              "        vertical-align: middle;\n",
              "    }\n",
              "\n",
              "    .dataframe tbody tr th {\n",
              "        vertical-align: top;\n",
              "    }\n",
              "\n",
              "    .dataframe thead th {\n",
              "        text-align: right;\n",
              "    }\n",
              "</style>\n",
              "<table border=\"1\" class=\"dataframe\">\n",
              "  <thead>\n",
              "    <tr style=\"text-align: right;\">\n",
              "      <th></th>\n",
              "      <th>TotalEarnings</th>\n",
              "      <th>OnlineEarnings</th>\n",
              "      <th>TotalPlayers</th>\n",
              "      <th>TotalTournaments</th>\n",
              "    </tr>\n",
              "    <tr>\n",
              "      <th>Genre</th>\n",
              "      <th></th>\n",
              "      <th></th>\n",
              "      <th></th>\n",
              "      <th></th>\n",
              "    </tr>\n",
              "  </thead>\n",
              "  <tbody>\n",
              "    <tr>\n",
              "      <th>Battle Royale</th>\n",
              "      <td>155661970.82</td>\n",
              "      <td>83457089.64</td>\n",
              "      <td>10824</td>\n",
              "      <td>1401</td>\n",
              "    </tr>\n",
              "    <tr>\n",
              "      <th>Collectible Card Game</th>\n",
              "      <td>36428030.22</td>\n",
              "      <td>28979083.64</td>\n",
              "      <td>4146</td>\n",
              "      <td>1561</td>\n",
              "    </tr>\n",
              "    <tr>\n",
              "      <th>Fighting Game</th>\n",
              "      <td>21092314.15</td>\n",
              "      <td>19425528.59</td>\n",
              "      <td>12927</td>\n",
              "      <td>9271</td>\n",
              "    </tr>\n",
              "    <tr>\n",
              "      <th>First-Person Shooter</th>\n",
              "      <td>244840668.11</td>\n",
              "      <td>177289175.06</td>\n",
              "      <td>38487</td>\n",
              "      <td>11831</td>\n",
              "    </tr>\n",
              "    <tr>\n",
              "      <th>Multiplayer Online Battle Arena</th>\n",
              "      <td>372308004.75</td>\n",
              "      <td>337313883.26</td>\n",
              "      <td>16004</td>\n",
              "      <td>5258</td>\n",
              "    </tr>\n",
              "    <tr>\n",
              "      <th>Puzzle Game</th>\n",
              "      <td>50327.66</td>\n",
              "      <td>33195.55</td>\n",
              "      <td>151</td>\n",
              "      <td>60</td>\n",
              "    </tr>\n",
              "    <tr>\n",
              "      <th>Racing</th>\n",
              "      <td>9313822.03</td>\n",
              "      <td>5469502.60</td>\n",
              "      <td>2899</td>\n",
              "      <td>1048</td>\n",
              "    </tr>\n",
              "    <tr>\n",
              "      <th>Role-Playing Game</th>\n",
              "      <td>6377952.83</td>\n",
              "      <td>5461744.43</td>\n",
              "      <td>750</td>\n",
              "      <td>206</td>\n",
              "    </tr>\n",
              "    <tr>\n",
              "      <th>Sports</th>\n",
              "      <td>30753107.15</td>\n",
              "      <td>20661523.90</td>\n",
              "      <td>3867</td>\n",
              "      <td>2506</td>\n",
              "    </tr>\n",
              "    <tr>\n",
              "      <th>Strategy</th>\n",
              "      <td>69818217.51</td>\n",
              "      <td>54086215.12</td>\n",
              "      <td>9155</td>\n",
              "      <td>9883</td>\n",
              "    </tr>\n",
              "    <tr>\n",
              "      <th>Third-Person Shooter</th>\n",
              "      <td>5511986.38</td>\n",
              "      <td>4296751.38</td>\n",
              "      <td>468</td>\n",
              "      <td>97</td>\n",
              "    </tr>\n",
              "  </tbody>\n",
              "</table>\n",
              "</div>"
            ],
            "text/plain": [
              "                                 TotalEarnings  ...  TotalTournaments\n",
              "Genre                                           ...                  \n",
              "Battle Royale                     155661970.82  ...              1401\n",
              "Collectible Card Game              36428030.22  ...              1561\n",
              "Fighting Game                      21092314.15  ...              9271\n",
              "First-Person Shooter              244840668.11  ...             11831\n",
              "Multiplayer Online Battle Arena   372308004.75  ...              5258\n",
              "Puzzle Game                           50327.66  ...                60\n",
              "Racing                              9313822.03  ...              1048\n",
              "Role-Playing Game                   6377952.83  ...               206\n",
              "Sports                             30753107.15  ...              2506\n",
              "Strategy                           69818217.51  ...              9883\n",
              "Third-Person Shooter                5511986.38  ...                97\n",
              "\n",
              "[11 rows x 4 columns]"
            ]
          },
          "metadata": {
            "tags": []
          },
          "execution_count": 72
        }
      ]
    },
    {
      "cell_type": "markdown",
      "metadata": {
        "id": "WpSOtB2KyJnD"
      },
      "source": [
        "### Top 10 game categories by total earnings"
      ]
    },
    {
      "cell_type": "markdown",
      "metadata": {
        "id": "bh0K6YECyeYU"
      },
      "source": [
        "Multiplayer Online Battle Arena is the game category which offers biggest total prize pool in tournaments "
      ]
    },
    {
      "cell_type": "code",
      "metadata": {
        "colab": {
          "base_uri": "https://localhost:8080/",
          "height": 394
        },
        "id": "yp2nyeZ6yE72",
        "outputId": "ae9188ff-abc2-44e3-db7a-e9e34e3eb3fa"
      },
      "source": [
        "df_pop.sort_values('TotalEarnings',ascending=False).head(10)"
      ],
      "execution_count": null,
      "outputs": [
        {
          "output_type": "execute_result",
          "data": {
            "text/html": [
              "<div>\n",
              "<style scoped>\n",
              "    .dataframe tbody tr th:only-of-type {\n",
              "        vertical-align: middle;\n",
              "    }\n",
              "\n",
              "    .dataframe tbody tr th {\n",
              "        vertical-align: top;\n",
              "    }\n",
              "\n",
              "    .dataframe thead th {\n",
              "        text-align: right;\n",
              "    }\n",
              "</style>\n",
              "<table border=\"1\" class=\"dataframe\">\n",
              "  <thead>\n",
              "    <tr style=\"text-align: right;\">\n",
              "      <th></th>\n",
              "      <th>TotalEarnings</th>\n",
              "      <th>OnlineEarnings</th>\n",
              "      <th>TotalPlayers</th>\n",
              "      <th>TotalTournaments</th>\n",
              "    </tr>\n",
              "    <tr>\n",
              "      <th>Genre</th>\n",
              "      <th></th>\n",
              "      <th></th>\n",
              "      <th></th>\n",
              "      <th></th>\n",
              "    </tr>\n",
              "  </thead>\n",
              "  <tbody>\n",
              "    <tr>\n",
              "      <th>Multiplayer Online Battle Arena</th>\n",
              "      <td>372308004.75</td>\n",
              "      <td>337313883.26</td>\n",
              "      <td>16004</td>\n",
              "      <td>5258</td>\n",
              "    </tr>\n",
              "    <tr>\n",
              "      <th>First-Person Shooter</th>\n",
              "      <td>244840668.11</td>\n",
              "      <td>177289175.06</td>\n",
              "      <td>38487</td>\n",
              "      <td>11831</td>\n",
              "    </tr>\n",
              "    <tr>\n",
              "      <th>Battle Royale</th>\n",
              "      <td>155661970.82</td>\n",
              "      <td>83457089.64</td>\n",
              "      <td>10824</td>\n",
              "      <td>1401</td>\n",
              "    </tr>\n",
              "    <tr>\n",
              "      <th>Strategy</th>\n",
              "      <td>69818217.51</td>\n",
              "      <td>54086215.12</td>\n",
              "      <td>9155</td>\n",
              "      <td>9883</td>\n",
              "    </tr>\n",
              "    <tr>\n",
              "      <th>Collectible Card Game</th>\n",
              "      <td>36428030.22</td>\n",
              "      <td>28979083.64</td>\n",
              "      <td>4146</td>\n",
              "      <td>1561</td>\n",
              "    </tr>\n",
              "    <tr>\n",
              "      <th>Sports</th>\n",
              "      <td>30753107.15</td>\n",
              "      <td>20661523.90</td>\n",
              "      <td>3867</td>\n",
              "      <td>2506</td>\n",
              "    </tr>\n",
              "    <tr>\n",
              "      <th>Fighting Game</th>\n",
              "      <td>21092314.15</td>\n",
              "      <td>19425528.59</td>\n",
              "      <td>12927</td>\n",
              "      <td>9271</td>\n",
              "    </tr>\n",
              "    <tr>\n",
              "      <th>Racing</th>\n",
              "      <td>9313822.03</td>\n",
              "      <td>5469502.60</td>\n",
              "      <td>2899</td>\n",
              "      <td>1048</td>\n",
              "    </tr>\n",
              "    <tr>\n",
              "      <th>Role-Playing Game</th>\n",
              "      <td>6377952.83</td>\n",
              "      <td>5461744.43</td>\n",
              "      <td>750</td>\n",
              "      <td>206</td>\n",
              "    </tr>\n",
              "    <tr>\n",
              "      <th>Third-Person Shooter</th>\n",
              "      <td>5511986.38</td>\n",
              "      <td>4296751.38</td>\n",
              "      <td>468</td>\n",
              "      <td>97</td>\n",
              "    </tr>\n",
              "  </tbody>\n",
              "</table>\n",
              "</div>"
            ],
            "text/plain": [
              "                                 TotalEarnings  ...  TotalTournaments\n",
              "Genre                                           ...                  \n",
              "Multiplayer Online Battle Arena   372308004.75  ...              5258\n",
              "First-Person Shooter              244840668.11  ...             11831\n",
              "Battle Royale                     155661970.82  ...              1401\n",
              "Strategy                           69818217.51  ...              9883\n",
              "Collectible Card Game              36428030.22  ...              1561\n",
              "Sports                             30753107.15  ...              2506\n",
              "Fighting Game                      21092314.15  ...              9271\n",
              "Racing                              9313822.03  ...              1048\n",
              "Role-Playing Game                   6377952.83  ...               206\n",
              "Third-Person Shooter                5511986.38  ...                97\n",
              "\n",
              "[10 rows x 4 columns]"
            ]
          },
          "metadata": {
            "tags": []
          },
          "execution_count": 73
        }
      ]
    },
    {
      "cell_type": "markdown",
      "metadata": {
        "id": "doJqgEn5x6XC"
      },
      "source": [
        "### Top 10 game categories by online earnings"
      ]
    },
    {
      "cell_type": "markdown",
      "metadata": {
        "id": "fX1cPIThy4wx"
      },
      "source": [
        "Multiplayer Online Battle Arena is also the game category which offers biggest online prize pool in tournaments "
      ]
    },
    {
      "cell_type": "code",
      "metadata": {
        "colab": {
          "base_uri": "https://localhost:8080/",
          "height": 394
        },
        "id": "JT6yuhzvyFtn",
        "outputId": "177a652d-0db4-4838-e3d6-fa111e128478"
      },
      "source": [
        "df_pop.sort_values('OnlineEarnings',ascending=False).head(10)"
      ],
      "execution_count": null,
      "outputs": [
        {
          "output_type": "execute_result",
          "data": {
            "text/html": [
              "<div>\n",
              "<style scoped>\n",
              "    .dataframe tbody tr th:only-of-type {\n",
              "        vertical-align: middle;\n",
              "    }\n",
              "\n",
              "    .dataframe tbody tr th {\n",
              "        vertical-align: top;\n",
              "    }\n",
              "\n",
              "    .dataframe thead th {\n",
              "        text-align: right;\n",
              "    }\n",
              "</style>\n",
              "<table border=\"1\" class=\"dataframe\">\n",
              "  <thead>\n",
              "    <tr style=\"text-align: right;\">\n",
              "      <th></th>\n",
              "      <th>TotalEarnings</th>\n",
              "      <th>OnlineEarnings</th>\n",
              "      <th>TotalPlayers</th>\n",
              "      <th>TotalTournaments</th>\n",
              "    </tr>\n",
              "    <tr>\n",
              "      <th>Genre</th>\n",
              "      <th></th>\n",
              "      <th></th>\n",
              "      <th></th>\n",
              "      <th></th>\n",
              "    </tr>\n",
              "  </thead>\n",
              "  <tbody>\n",
              "    <tr>\n",
              "      <th>Multiplayer Online Battle Arena</th>\n",
              "      <td>372308004.75</td>\n",
              "      <td>337313883.26</td>\n",
              "      <td>16004</td>\n",
              "      <td>5258</td>\n",
              "    </tr>\n",
              "    <tr>\n",
              "      <th>First-Person Shooter</th>\n",
              "      <td>244840668.11</td>\n",
              "      <td>177289175.06</td>\n",
              "      <td>38487</td>\n",
              "      <td>11831</td>\n",
              "    </tr>\n",
              "    <tr>\n",
              "      <th>Battle Royale</th>\n",
              "      <td>155661970.82</td>\n",
              "      <td>83457089.64</td>\n",
              "      <td>10824</td>\n",
              "      <td>1401</td>\n",
              "    </tr>\n",
              "    <tr>\n",
              "      <th>Strategy</th>\n",
              "      <td>69818217.51</td>\n",
              "      <td>54086215.12</td>\n",
              "      <td>9155</td>\n",
              "      <td>9883</td>\n",
              "    </tr>\n",
              "    <tr>\n",
              "      <th>Collectible Card Game</th>\n",
              "      <td>36428030.22</td>\n",
              "      <td>28979083.64</td>\n",
              "      <td>4146</td>\n",
              "      <td>1561</td>\n",
              "    </tr>\n",
              "    <tr>\n",
              "      <th>Sports</th>\n",
              "      <td>30753107.15</td>\n",
              "      <td>20661523.90</td>\n",
              "      <td>3867</td>\n",
              "      <td>2506</td>\n",
              "    </tr>\n",
              "    <tr>\n",
              "      <th>Fighting Game</th>\n",
              "      <td>21092314.15</td>\n",
              "      <td>19425528.59</td>\n",
              "      <td>12927</td>\n",
              "      <td>9271</td>\n",
              "    </tr>\n",
              "    <tr>\n",
              "      <th>Racing</th>\n",
              "      <td>9313822.03</td>\n",
              "      <td>5469502.60</td>\n",
              "      <td>2899</td>\n",
              "      <td>1048</td>\n",
              "    </tr>\n",
              "    <tr>\n",
              "      <th>Role-Playing Game</th>\n",
              "      <td>6377952.83</td>\n",
              "      <td>5461744.43</td>\n",
              "      <td>750</td>\n",
              "      <td>206</td>\n",
              "    </tr>\n",
              "    <tr>\n",
              "      <th>Third-Person Shooter</th>\n",
              "      <td>5511986.38</td>\n",
              "      <td>4296751.38</td>\n",
              "      <td>468</td>\n",
              "      <td>97</td>\n",
              "    </tr>\n",
              "  </tbody>\n",
              "</table>\n",
              "</div>"
            ],
            "text/plain": [
              "                                 TotalEarnings  ...  TotalTournaments\n",
              "Genre                                           ...                  \n",
              "Multiplayer Online Battle Arena   372308004.75  ...              5258\n",
              "First-Person Shooter              244840668.11  ...             11831\n",
              "Battle Royale                     155661970.82  ...              1401\n",
              "Strategy                           69818217.51  ...              9883\n",
              "Collectible Card Game              36428030.22  ...              1561\n",
              "Sports                             30753107.15  ...              2506\n",
              "Fighting Game                      21092314.15  ...              9271\n",
              "Racing                              9313822.03  ...              1048\n",
              "Role-Playing Game                   6377952.83  ...               206\n",
              "Third-Person Shooter                5511986.38  ...                97\n",
              "\n",
              "[10 rows x 4 columns]"
            ]
          },
          "metadata": {
            "tags": []
          },
          "execution_count": 74
        }
      ]
    },
    {
      "cell_type": "markdown",
      "metadata": {
        "id": "dEfA8ismx6ge"
      },
      "source": [
        "### Top 10 game categories by total players\n",
        "First-Person Shooter is the game category which gives most players prizes. "
      ]
    },
    {
      "cell_type": "code",
      "metadata": {
        "colab": {
          "base_uri": "https://localhost:8080/",
          "height": 394
        },
        "id": "QvKrgXHNyU7W",
        "outputId": "3647b6a9-ef5e-4a28-ea79-c3171a1a5186"
      },
      "source": [
        "df_pop.sort_values('TotalPlayers',ascending=False).head(10)"
      ],
      "execution_count": null,
      "outputs": [
        {
          "output_type": "execute_result",
          "data": {
            "text/html": [
              "<div>\n",
              "<style scoped>\n",
              "    .dataframe tbody tr th:only-of-type {\n",
              "        vertical-align: middle;\n",
              "    }\n",
              "\n",
              "    .dataframe tbody tr th {\n",
              "        vertical-align: top;\n",
              "    }\n",
              "\n",
              "    .dataframe thead th {\n",
              "        text-align: right;\n",
              "    }\n",
              "</style>\n",
              "<table border=\"1\" class=\"dataframe\">\n",
              "  <thead>\n",
              "    <tr style=\"text-align: right;\">\n",
              "      <th></th>\n",
              "      <th>TotalEarnings</th>\n",
              "      <th>OnlineEarnings</th>\n",
              "      <th>TotalPlayers</th>\n",
              "      <th>TotalTournaments</th>\n",
              "    </tr>\n",
              "    <tr>\n",
              "      <th>Genre</th>\n",
              "      <th></th>\n",
              "      <th></th>\n",
              "      <th></th>\n",
              "      <th></th>\n",
              "    </tr>\n",
              "  </thead>\n",
              "  <tbody>\n",
              "    <tr>\n",
              "      <th>First-Person Shooter</th>\n",
              "      <td>244840668.11</td>\n",
              "      <td>177289175.06</td>\n",
              "      <td>38487</td>\n",
              "      <td>11831</td>\n",
              "    </tr>\n",
              "    <tr>\n",
              "      <th>Multiplayer Online Battle Arena</th>\n",
              "      <td>372308004.75</td>\n",
              "      <td>337313883.26</td>\n",
              "      <td>16004</td>\n",
              "      <td>5258</td>\n",
              "    </tr>\n",
              "    <tr>\n",
              "      <th>Fighting Game</th>\n",
              "      <td>21092314.15</td>\n",
              "      <td>19425528.59</td>\n",
              "      <td>12927</td>\n",
              "      <td>9271</td>\n",
              "    </tr>\n",
              "    <tr>\n",
              "      <th>Battle Royale</th>\n",
              "      <td>155661970.82</td>\n",
              "      <td>83457089.64</td>\n",
              "      <td>10824</td>\n",
              "      <td>1401</td>\n",
              "    </tr>\n",
              "    <tr>\n",
              "      <th>Strategy</th>\n",
              "      <td>69818217.51</td>\n",
              "      <td>54086215.12</td>\n",
              "      <td>9155</td>\n",
              "      <td>9883</td>\n",
              "    </tr>\n",
              "    <tr>\n",
              "      <th>Collectible Card Game</th>\n",
              "      <td>36428030.22</td>\n",
              "      <td>28979083.64</td>\n",
              "      <td>4146</td>\n",
              "      <td>1561</td>\n",
              "    </tr>\n",
              "    <tr>\n",
              "      <th>Sports</th>\n",
              "      <td>30753107.15</td>\n",
              "      <td>20661523.90</td>\n",
              "      <td>3867</td>\n",
              "      <td>2506</td>\n",
              "    </tr>\n",
              "    <tr>\n",
              "      <th>Racing</th>\n",
              "      <td>9313822.03</td>\n",
              "      <td>5469502.60</td>\n",
              "      <td>2899</td>\n",
              "      <td>1048</td>\n",
              "    </tr>\n",
              "    <tr>\n",
              "      <th>Role-Playing Game</th>\n",
              "      <td>6377952.83</td>\n",
              "      <td>5461744.43</td>\n",
              "      <td>750</td>\n",
              "      <td>206</td>\n",
              "    </tr>\n",
              "    <tr>\n",
              "      <th>Third-Person Shooter</th>\n",
              "      <td>5511986.38</td>\n",
              "      <td>4296751.38</td>\n",
              "      <td>468</td>\n",
              "      <td>97</td>\n",
              "    </tr>\n",
              "  </tbody>\n",
              "</table>\n",
              "</div>"
            ],
            "text/plain": [
              "                                 TotalEarnings  ...  TotalTournaments\n",
              "Genre                                           ...                  \n",
              "First-Person Shooter              244840668.11  ...             11831\n",
              "Multiplayer Online Battle Arena   372308004.75  ...              5258\n",
              "Fighting Game                      21092314.15  ...              9271\n",
              "Battle Royale                     155661970.82  ...              1401\n",
              "Strategy                           69818217.51  ...              9883\n",
              "Collectible Card Game              36428030.22  ...              1561\n",
              "Sports                             30753107.15  ...              2506\n",
              "Racing                              9313822.03  ...              1048\n",
              "Role-Playing Game                   6377952.83  ...               206\n",
              "Third-Person Shooter                5511986.38  ...                97\n",
              "\n",
              "[10 rows x 4 columns]"
            ]
          },
          "metadata": {
            "tags": []
          },
          "execution_count": 75
        }
      ]
    },
    {
      "cell_type": "markdown",
      "metadata": {
        "id": "IPsLnL66x60o"
      },
      "source": [
        "### Top 10 game categories by total tournaments"
      ]
    },
    {
      "cell_type": "markdown",
      "metadata": {
        "id": "fF0pR5kqzNR9"
      },
      "source": [
        "First-Person Shooter is also the game category that hold most total amount of tournaments in the site."
      ]
    },
    {
      "cell_type": "code",
      "metadata": {
        "colab": {
          "base_uri": "https://localhost:8080/",
          "height": 394
        },
        "id": "XYoARTrKyXnw",
        "outputId": "25415d74-689b-40aa-de9e-c6a10ae916bc"
      },
      "source": [
        "df_pop.sort_values('TotalTournaments',ascending=False).head(10)"
      ],
      "execution_count": null,
      "outputs": [
        {
          "output_type": "execute_result",
          "data": {
            "text/html": [
              "<div>\n",
              "<style scoped>\n",
              "    .dataframe tbody tr th:only-of-type {\n",
              "        vertical-align: middle;\n",
              "    }\n",
              "\n",
              "    .dataframe tbody tr th {\n",
              "        vertical-align: top;\n",
              "    }\n",
              "\n",
              "    .dataframe thead th {\n",
              "        text-align: right;\n",
              "    }\n",
              "</style>\n",
              "<table border=\"1\" class=\"dataframe\">\n",
              "  <thead>\n",
              "    <tr style=\"text-align: right;\">\n",
              "      <th></th>\n",
              "      <th>TotalEarnings</th>\n",
              "      <th>OnlineEarnings</th>\n",
              "      <th>TotalPlayers</th>\n",
              "      <th>TotalTournaments</th>\n",
              "    </tr>\n",
              "    <tr>\n",
              "      <th>Genre</th>\n",
              "      <th></th>\n",
              "      <th></th>\n",
              "      <th></th>\n",
              "      <th></th>\n",
              "    </tr>\n",
              "  </thead>\n",
              "  <tbody>\n",
              "    <tr>\n",
              "      <th>First-Person Shooter</th>\n",
              "      <td>244840668.11</td>\n",
              "      <td>177289175.06</td>\n",
              "      <td>38487</td>\n",
              "      <td>11831</td>\n",
              "    </tr>\n",
              "    <tr>\n",
              "      <th>Strategy</th>\n",
              "      <td>69818217.51</td>\n",
              "      <td>54086215.12</td>\n",
              "      <td>9155</td>\n",
              "      <td>9883</td>\n",
              "    </tr>\n",
              "    <tr>\n",
              "      <th>Fighting Game</th>\n",
              "      <td>21092314.15</td>\n",
              "      <td>19425528.59</td>\n",
              "      <td>12927</td>\n",
              "      <td>9271</td>\n",
              "    </tr>\n",
              "    <tr>\n",
              "      <th>Multiplayer Online Battle Arena</th>\n",
              "      <td>372308004.75</td>\n",
              "      <td>337313883.26</td>\n",
              "      <td>16004</td>\n",
              "      <td>5258</td>\n",
              "    </tr>\n",
              "    <tr>\n",
              "      <th>Sports</th>\n",
              "      <td>30753107.15</td>\n",
              "      <td>20661523.90</td>\n",
              "      <td>3867</td>\n",
              "      <td>2506</td>\n",
              "    </tr>\n",
              "    <tr>\n",
              "      <th>Collectible Card Game</th>\n",
              "      <td>36428030.22</td>\n",
              "      <td>28979083.64</td>\n",
              "      <td>4146</td>\n",
              "      <td>1561</td>\n",
              "    </tr>\n",
              "    <tr>\n",
              "      <th>Battle Royale</th>\n",
              "      <td>155661970.82</td>\n",
              "      <td>83457089.64</td>\n",
              "      <td>10824</td>\n",
              "      <td>1401</td>\n",
              "    </tr>\n",
              "    <tr>\n",
              "      <th>Racing</th>\n",
              "      <td>9313822.03</td>\n",
              "      <td>5469502.60</td>\n",
              "      <td>2899</td>\n",
              "      <td>1048</td>\n",
              "    </tr>\n",
              "    <tr>\n",
              "      <th>Role-Playing Game</th>\n",
              "      <td>6377952.83</td>\n",
              "      <td>5461744.43</td>\n",
              "      <td>750</td>\n",
              "      <td>206</td>\n",
              "    </tr>\n",
              "    <tr>\n",
              "      <th>Third-Person Shooter</th>\n",
              "      <td>5511986.38</td>\n",
              "      <td>4296751.38</td>\n",
              "      <td>468</td>\n",
              "      <td>97</td>\n",
              "    </tr>\n",
              "  </tbody>\n",
              "</table>\n",
              "</div>"
            ],
            "text/plain": [
              "                                 TotalEarnings  ...  TotalTournaments\n",
              "Genre                                           ...                  \n",
              "First-Person Shooter              244840668.11  ...             11831\n",
              "Strategy                           69818217.51  ...              9883\n",
              "Fighting Game                      21092314.15  ...              9271\n",
              "Multiplayer Online Battle Arena   372308004.75  ...              5258\n",
              "Sports                             30753107.15  ...              2506\n",
              "Collectible Card Game              36428030.22  ...              1561\n",
              "Battle Royale                     155661970.82  ...              1401\n",
              "Racing                              9313822.03  ...              1048\n",
              "Role-Playing Game                   6377952.83  ...               206\n",
              "Third-Person Shooter                5511986.38  ...                97\n",
              "\n",
              "[10 rows x 4 columns]"
            ]
          },
          "metadata": {
            "tags": []
          },
          "execution_count": 76
        }
      ]
    }
  ]
}